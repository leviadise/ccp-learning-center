{
  "nbformat": 4,
  "nbformat_minor": 0,
  "metadata": {
    "colab": {
      "name": "1.3 Notebook Class 3",
      "version": "0.3.2",
      "provenance": [],
      "collapsed_sections": [
        "fCqwc1HjFWb8",
        "C1YNlZW7Lyih",
        "tpXgRZ2Zh6OA",
        "lVOAq5zjgQQe",
        "PKZ9gMbOgQQf"
      ],
      "toc_visible": true,
      "include_colab_link": true
    },
    "kernelspec": {
      "name": "python3",
      "display_name": "Python 3"
    }
  },
  "cells": [
    {
      "cell_type": "markdown",
      "metadata": {
        "id": "view-in-github",
        "colab_type": "text"
      },
      "source": [
        "<a href=\"https://colab.research.google.com/github/AliferSales/ccp-learning-center/blob/master/blackboard/module-1/class-3/3-Notebook.ipynb\" target=\"_parent\"><img src=\"https://colab.research.google.com/assets/colab-badge.svg\" alt=\"Open In Colab\"/></a>"
      ]
    },
    {
      "metadata": {
        "id": "qJzFpgUPEFXb",
        "colab_type": "text"
      },
      "cell_type": "markdown",
      "source": [
        "# Title\n",
        "\n",
        "\n",
        "---\n",
        "\n",
        "description"
      ]
    },
    {
      "metadata": {
        "id": "fCqwc1HjFWb8",
        "colab_type": "text"
      },
      "cell_type": "markdown",
      "source": [
        "## 1 - Making queries with DBeaver\n",
        "---"
      ]
    },
    {
      "metadata": {
        "id": "Nudb0r3ncaLK",
        "colab_type": "text"
      },
      "cell_type": "markdown",
      "source": [
        "In the previous classes, we learned the Waze Data and how to capture and store them. Now, we need to learn how to get this data from the database. In other words, we are talking about queries. A query is a database data request based in custom filters, aggregations and ordinations. To make queries, we will use SQL (Structured Query Language). Our focus here will not to teach SQL sintaxe, but if you don't know about it, there are many free courses in the web, so, take a Google and problem solved!\n",
        "\n",
        "In this section, we'll use the SQL client and database tool [DBeaver](https://dbeaver.io/). Please, install the Community Edition, by [clicking here](https://dbeaver.io/download/). Let's learn how to connect to the database, acces the data and make simple queries."
      ]
    },
    {
      "metadata": {
        "id": "Wt7RNIvzcaPh",
        "colab_type": "text"
      },
      "cell_type": "markdown",
      "source": [
        "### 1.1 Connecting to the database"
      ]
    },
    {
      "metadata": {
        "id": "hJEKYs72caTF",
        "colab_type": "text"
      },
      "cell_type": "markdown",
      "source": [
        "The first step is connect DBeaver to the database. To do that, open DBeaver and follow:\n",
        "\n",
        "1. In the menu, click in **Database** and then in **New Connection**.\n",
        "2. In the opened box, select the **connection type** of your database and click in **`Next >`**. In our case, we select PostgreSQL.\n",
        "3. Input the **connections settings** of your database. It varies depending on your connection type.\n",
        "4. Click in **`Test Connection ...`**\n",
        "5. If was all ok, will apper a **`Sucess`** message box. Click in **`Ok`**.\n",
        "6. Click in **`Finish`**\n",
        "\n",
        "<img style=\"width=800px\" src=\"https://drive.google.com/uc?export=view&id=1soa-jra6IoSkgHInIJGTQcucgRLpYZwI\">\n",
        "\n",
        "DBeaver already are connect to the database where the waze data are. In the left DBeaver interface, you must see a panel called **`Database Navigator`**. In there, you can access the schemas and tables of the database. Remember our data are in `waze` schema. To see the content of a table, you just need to click twice in the table name. Test it with `jams` table.\n",
        "\n"
      ]
    },
    {
      "metadata": {
        "id": "6k9w3KQ8caYL",
        "colab_type": "text"
      },
      "cell_type": "markdown",
      "source": [
        "### 1.2 Making queries"
      ]
    },
    {
      "metadata": {
        "id": "427sbAFh4RAN",
        "colab_type": "text"
      },
      "cell_type": "markdown",
      "source": [
        "The next step of this quick DBeaver tutorial is learn how to make queries. In other words, we need to discover how to input SQL scripts in DBeaver. It's easy! To illustrate the proccess, let's run a query that return the jams where average speed is less then 20 km/h.\n",
        "\n",
        "1. Open a New SQL Editor: In the menu, click in **`SQL Editor`** and, then, click in **`New SQL Editor`**.\n",
        "    - A new text box will be created in the center to right of the DBeaver interface. In there you can write any SQL script to your database.\n",
        "2. In the `SQL Editor` oppened text box, write the following SQL script:\n",
        "\n",
        "```sql\n",
        "SELECT uuid, pub_utc_date, street, city, country, speed_kmh, length, \"level\"\n",
        "FROM waze.jams\n",
        "WHERE speed_kmh < 20\n",
        "ORDER BY speed_kmh\n",
        "```\n",
        "\n",
        "3. **Run** with **`CTRL + ENTER`** shortcut.\n",
        "\n",
        "Below the `SQL Editor`, a table with the query result.\n",
        "   "
      ]
    },
    {
      "metadata": {
        "id": "u8X30E7pjyxx",
        "colab_type": "text"
      },
      "cell_type": "markdown",
      "source": [
        "### 1.3 Exporting a query result"
      ]
    },
    {
      "metadata": {
        "id": "097BtPQ6jy1J",
        "colab_type": "text"
      },
      "cell_type": "markdown",
      "source": [
        "Sometimes we may to be interessed to export a query result in a structured data file. To do this:\n",
        "\n",
        "1. **Open and write the query** in the `SQL Editor`, as we did make in the previous sub-section.\n",
        "2. With yor cursor, **select the query script** and **right click**.\n",
        "3. In the oppened options, go to **`Execute`** and click in **`Export from Query`**.\n",
        "    - It will appear the **Data Transfer box**. First, you need to choose the export target type. You can save the query result to a new database table, export to a file, or even to a SQL script. In our case, we will export to a CSV file.\n",
        "4. In the **`Data Transfer`** box, select **`CSV | Export to CSV file(s)`** and click in **`Next >`**.\n",
        "5. Select **`Single query`** extract type, keep select **`Open new connection(s)`** and **`Select row count`** and click in **`Next >`**.\n",
        "6. If you want to **custom the CSV format** (as delimiters, separators and header), it's the moment. After then, click in **`Next >`**.\n",
        "7. Select the **target directory** where the file will be saved, define its **name** and **enconding**. Then, click in **`Next >`**.\n",
        "8. Click in **`Finish`**.\n",
        "\n",
        "Done! The query result file is ready."
      ]
    },
    {
      "metadata": {
        "id": "erYEP2fcaC8i",
        "colab_type": "text"
      },
      "cell_type": "markdown",
      "source": [
        "---\n",
        "\n",
        "---\n",
        "\n",
        "---"
      ]
    },
    {
      "metadata": {
        "id": "C1YNlZW7Lyih",
        "colab_type": "text"
      },
      "cell_type": "markdown",
      "source": [
        "## 2 - QGIS\n",
        "\n",
        "---"
      ]
    },
    {
      "metadata": {
        "id": "Etx142-LYbIz",
        "colab_type": "text"
      },
      "cell_type": "markdown",
      "source": [
        "This section will present you a little bit of the free and open source Geographic Information System [QGIS](https://qgis.org/en/site/index.html)"
      ]
    },
    {
      "metadata": {
        "id": "ur5tMTPQ25bq",
        "colab_type": "text"
      },
      "cell_type": "markdown",
      "source": [
        "---\n",
        "\n",
        "---\n",
        "\n",
        "---"
      ]
    },
    {
      "metadata": {
        "id": "YIag3hpt25Y5",
        "colab_type": "text"
      },
      "cell_type": "markdown",
      "source": [
        "## 3 - Queries with Python\n",
        "\n",
        "---"
      ]
    },
    {
      "metadata": {
        "id": "X_7wbpLn25WU",
        "colab_type": "text"
      },
      "cell_type": "markdown",
      "source": [
        "In this section, we will learn how to make queries with [Python](https://www.python.org/) in two ways. First, we'll see it using [SQLAlchemy](https://www.sqlalchemy.org/), a Python SQL toolkit. And, as a alternative way, we'll use [Pandas](https://pandas.pydata.org/), an powerful tool to data analysis."
      ]
    },
    {
      "metadata": {
        "id": "yppKrkuK25T8",
        "colab_type": "text"
      },
      "cell_type": "markdown",
      "source": [
        "### 3.1 Connecting to the database"
      ]
    },
    {
      "metadata": {
        "id": "COlIPNm0CUmQ",
        "colab_type": "text"
      },
      "cell_type": "markdown",
      "source": [
        "First of all, we need to connect to the database. To do that we will need of the name, host, port, user and password of the database. But, as we already did it in the previous class, this should not be something new to you. "
      ]
    },
    {
      "metadata": {
        "id": "mGGn7B5oDodj",
        "colab_type": "code",
        "colab": {}
      },
      "cell_type": "code",
      "source": [
        "from sqlalchemy import create_engine\n",
        "\n",
        "host = \"104.155.150.247\" #@param {type:\"string\"}\n",
        "port = \"5432\" #@param {type:\"string\"}\n",
        "database = \"postgres\" #@param {type:\"string\"}\n",
        "user = \"postgres\" #@param {type:\"string\"}\n",
        "password = \"12345678\" #@param {type:\"string\"}\n",
        "\n",
        "if port != \"\": port = \":\" + port\n",
        "if password != \"\": password = \":\" + password\n",
        "\n",
        "engine = create_engine('postgresql://{}{}@{}{}/{}'.format(user,password,\n",
        "                                                          host,port,\n",
        "                                                          database))\n",
        "con = engine.connect()"
      ],
      "execution_count": 0,
      "outputs": []
    },
    {
      "metadata": {
        "id": "1CBWUPqeEZj0",
        "colab_type": "text"
      },
      "cell_type": "markdown",
      "source": [
        "### 3.2 Queries using SQLAlchemy"
      ]
    },
    {
      "metadata": {
        "id": "hRHuIyU3EhDm",
        "colab_type": "text"
      },
      "cell_type": "markdown",
      "source": [
        "[SQLAlchemy](https://www.sqlalchemy.org/) is a Python SQL toolkit that allows us to connect and run SQL scripts using Python. \n",
        "\n",
        "We already use it to connect to the database, when we created a `engine` object and started the connection, storing it in `con` variable. To make queries (or run any other SQL script type), we will use this object and its method called `execute`. To illustrate, let's use the same query that we used in section 1\n",
        "\n",
        "```sql\n",
        "SELECT uuid, pub_utc_date, street, city, country, speed_kmh, length, \"level\"\n",
        "FROM waze.jams\n",
        "WHERE speed_kmh < 20\n",
        "ORDER BY speed_kmh\n",
        "```"
      ]
    },
    {
      "metadata": {
        "id": "aHi7FFVCEgKV",
        "colab_type": "code",
        "colab": {
          "base_uri": "https://localhost:8080/",
          "height": 122
        },
        "outputId": "b9b4e28a-656e-449c-e3e8-b92208f4085e"
      },
      "cell_type": "code",
      "source": [
        "query = \"\"\"\n",
        "SELECT uuid, pub_utc_date, street, city, country, speed_kmh, length, \"level\"\n",
        "FROM waze.jams\n",
        "WHERE speed_kmh < 20\n",
        "ORDER BY speed_kmh\n",
        "\"\"\"\n",
        "\n",
        "query_result = con.execute(query)\n",
        "list(query_result)[:5]"
      ],
      "execution_count": 4,
      "outputs": [
        {
          "output_type": "execute_result",
          "data": {
            "text/plain": [
              "[('1460719933', datetime.datetime(2018, 12, 27, 17, 3), 'Av. Nicolás Ayllón/Carretera Central', 'Ate', 'PE', 0.0, 83, 5),\n",
              " ('1501343288', datetime.datetime(2018, 12, 27, 17, 3), 'Jr. Cuzco', 'Lima', 'PE', 0.0, 134, 5),\n",
              " ('1452122016', datetime.datetime(2018, 12, 27, 17, 3), 'Av. Nicolás Ayllón', 'Ate', 'PE', 0.0, 123, 5),\n",
              " ('1458290174', datetime.datetime(2018, 12, 27, 17, 3), 'Av. Nicolás Ayllón', 'La Victoria', 'PE', 0.0, 92, 5),\n",
              " ('1497203141', datetime.datetime(2018, 12, 27, 17, 3), 'Av. Nicolás Ayllón', 'La Victoria', 'PE', 0.0, 75, 5)]"
            ]
          },
          "metadata": {
            "tags": []
          },
          "execution_count": 4
        }
      ]
    },
    {
      "metadata": {
        "id": "UvwtUToxHnbG",
        "colab_type": "text"
      },
      "cell_type": "markdown",
      "source": [
        "To export the query result, you need to process the data using some Python code lines. At really, it isn't a hard task. But there are a easier way to do it: by using Pandas."
      ]
    },
    {
      "metadata": {
        "id": "PYWSH03MIavb",
        "colab_type": "text"
      },
      "cell_type": "markdown",
      "source": [
        "### 3.3 Queries using Pandas"
      ]
    },
    {
      "metadata": {
        "id": "L2YRnxlPJAQp",
        "colab_type": "text"
      },
      "cell_type": "markdown",
      "source": [
        "[Pandas](https://pandas.pydata.org/) is an open source library providing, with high-performance, a easy way to manipulate data structures and create data analysis using Python.\n",
        "\n",
        "It's a really powerfull tool to works with data in Python, from the exploratory data analisys to the achievement of complex and incredible analysis. So, Pandas will be very important and usefull to us.\n",
        "\n",
        "As we already connected to the database in section 1, make queries turns very easy by using [`read_sql_query`](https://pandas.pydata.org/pandas-docs/version/0.23.4/generated/pandas.read_sql_query.html?highlight=read_sql_query#pandas.read_sql_query) method, where we input the query and the SQLAlchemy connection object (the `con` variable) and it return a [DataFrame object](https://pandas.pydata.org/pandas-docs/version/0.23.4/generated/pandas.DataFrame.html) containing the query result."
      ]
    },
    {
      "metadata": {
        "id": "pRpPV2UYI-Lh",
        "colab_type": "code",
        "colab": {
          "base_uri": "https://localhost:8080/",
          "height": 204
        },
        "outputId": "5a8e29a0-1d3f-483c-c717-dc9036196647"
      },
      "cell_type": "code",
      "source": [
        "import pandas as pd\n",
        "\n",
        "query = \"\"\"\n",
        "SELECT uuid, pub_utc_date, street, city, country, speed_kmh, length, \"level\"\n",
        "FROM waze.jams\n",
        "WHERE speed_kmh < 20\n",
        "ORDER BY speed_kmh\n",
        "\"\"\"\n",
        "\n",
        "df = pd.read_sql_query(query, con)\n",
        "df.head()"
      ],
      "execution_count": 10,
      "outputs": [
        {
          "output_type": "execute_result",
          "data": {
            "text/html": [
              "<div>\n",
              "<style scoped>\n",
              "    .dataframe tbody tr th:only-of-type {\n",
              "        vertical-align: middle;\n",
              "    }\n",
              "\n",
              "    .dataframe tbody tr th {\n",
              "        vertical-align: top;\n",
              "    }\n",
              "\n",
              "    .dataframe thead th {\n",
              "        text-align: right;\n",
              "    }\n",
              "</style>\n",
              "<table border=\"1\" class=\"dataframe\">\n",
              "  <thead>\n",
              "    <tr style=\"text-align: right;\">\n",
              "      <th></th>\n",
              "      <th>uuid</th>\n",
              "      <th>pub_utc_date</th>\n",
              "      <th>street</th>\n",
              "      <th>city</th>\n",
              "      <th>country</th>\n",
              "      <th>speed_kmh</th>\n",
              "      <th>length</th>\n",
              "      <th>level</th>\n",
              "    </tr>\n",
              "  </thead>\n",
              "  <tbody>\n",
              "    <tr>\n",
              "      <th>0</th>\n",
              "      <td>1460719933</td>\n",
              "      <td>2018-12-27 17:03:00</td>\n",
              "      <td>Av. Nicolás Ayllón/Carretera Central</td>\n",
              "      <td>Ate</td>\n",
              "      <td>PE</td>\n",
              "      <td>0.0</td>\n",
              "      <td>83</td>\n",
              "      <td>5</td>\n",
              "    </tr>\n",
              "    <tr>\n",
              "      <th>1</th>\n",
              "      <td>1501343288</td>\n",
              "      <td>2018-12-27 17:03:00</td>\n",
              "      <td>Jr. Cuzco</td>\n",
              "      <td>Lima</td>\n",
              "      <td>PE</td>\n",
              "      <td>0.0</td>\n",
              "      <td>134</td>\n",
              "      <td>5</td>\n",
              "    </tr>\n",
              "    <tr>\n",
              "      <th>2</th>\n",
              "      <td>1452122016</td>\n",
              "      <td>2018-12-27 17:03:00</td>\n",
              "      <td>Av. Nicolás Ayllón</td>\n",
              "      <td>Ate</td>\n",
              "      <td>PE</td>\n",
              "      <td>0.0</td>\n",
              "      <td>123</td>\n",
              "      <td>5</td>\n",
              "    </tr>\n",
              "    <tr>\n",
              "      <th>3</th>\n",
              "      <td>1458290174</td>\n",
              "      <td>2018-12-27 17:03:00</td>\n",
              "      <td>Av. Nicolás Ayllón</td>\n",
              "      <td>La Victoria</td>\n",
              "      <td>PE</td>\n",
              "      <td>0.0</td>\n",
              "      <td>92</td>\n",
              "      <td>5</td>\n",
              "    </tr>\n",
              "    <tr>\n",
              "      <th>4</th>\n",
              "      <td>1497203141</td>\n",
              "      <td>2018-12-27 17:03:00</td>\n",
              "      <td>Av. Nicolás Ayllón</td>\n",
              "      <td>La Victoria</td>\n",
              "      <td>PE</td>\n",
              "      <td>0.0</td>\n",
              "      <td>75</td>\n",
              "      <td>5</td>\n",
              "    </tr>\n",
              "  </tbody>\n",
              "</table>\n",
              "</div>"
            ],
            "text/plain": [
              "         uuid        pub_utc_date                                street  \\\n",
              "0  1460719933 2018-12-27 17:03:00  Av. Nicolás Ayllón/Carretera Central   \n",
              "1  1501343288 2018-12-27 17:03:00                             Jr. Cuzco   \n",
              "2  1452122016 2018-12-27 17:03:00                    Av. Nicolás Ayllón   \n",
              "3  1458290174 2018-12-27 17:03:00                    Av. Nicolás Ayllón   \n",
              "4  1497203141 2018-12-27 17:03:00                    Av. Nicolás Ayllón   \n",
              "\n",
              "          city country  speed_kmh  length  level  \n",
              "0          Ate      PE        0.0      83      5  \n",
              "1         Lima      PE        0.0     134      5  \n",
              "2          Ate      PE        0.0     123      5  \n",
              "3  La Victoria      PE        0.0      92      5  \n",
              "4  La Victoria      PE        0.0      75      5  "
            ]
          },
          "metadata": {
            "tags": []
          },
          "execution_count": 10
        }
      ]
    },
    {
      "metadata": {
        "id": "wshBLWdrMCkN",
        "colab_type": "text"
      },
      "cell_type": "markdown",
      "source": [
        "Note that the returned information structure is much more friendly, right? And it should not be any different, as the purpose of SQLAchemy is to enable database connection using Python, while Pandas focuses on visualization and data processing. Also, Pandas uses SQLAlchemy to make its queries. That is, one complements the other. \n",
        "\n",
        "A DataFrame Pandas Object provides so many resources that enable us to do the unthinkable with these data. But this is for another class.\n",
        "\n",
        "To finalizate this class, let's see how to export the data to a structured data file. More specifically, let's save the data in a csv file using [`to_csv`](https://pandas.pydata.org/pandas-docs/version/0.23.4/generated/pandas.DataFrame.to_csv.html?highlight=to_csv#pandas.DataFrame.to_csv) method."
      ]
    },
    {
      "metadata": {
        "id": "Oynz6VnsOIgt",
        "colab_type": "code",
        "colab": {}
      },
      "cell_type": "code",
      "source": [
        "df.to_csv('Lima_2018-12-27-17:03:00_speed_less_20.csv')"
      ],
      "execution_count": 0,
      "outputs": []
    },
    {
      "metadata": {
        "id": "RXmmSwOSPfYO",
        "colab_type": "code",
        "colab": {
          "base_uri": "https://localhost:8080/",
          "height": 34
        },
        "outputId": "40c490e7-4446-4ff1-c395-a0dc190fb699"
      },
      "cell_type": "code",
      "source": [
        "!ls *.csv"
      ],
      "execution_count": 13,
      "outputs": [
        {
          "output_type": "stream",
          "text": [
            "Lima_2018-12-27-17:03:00_speed_less_20.csv\n"
          ],
          "name": "stdout"
        }
      ]
    },
    {
      "metadata": {
        "id": "y2wc_r9D6u_F",
        "colab_type": "text"
      },
      "cell_type": "markdown",
      "source": [
        "---\n",
        "\n",
        "---\n",
        "\n",
        "---"
      ]
    },
    {
      "metadata": {
        "id": "BsslhBKv7jDM",
        "colab_type": "text"
      },
      "cell_type": "markdown",
      "source": [
        "## Conclusion"
      ]
    },
    {
      "metadata": {
        "colab_type": "text",
        "id": "G0k1YLWN7hE8"
      },
      "cell_type": "markdown",
      "source": [
        "It's the end of the class 3.\n",
        "\n",
        "...\n",
        "\n",
        "In the next class, ...\n",
        "\n",
        "Any suggestion or criticism is very welcome. To do that, [use our github, by clicking here](https://github.com/waze-programs/ccp-learning-center).\n",
        "\n",
        "<img style=\"width=800px\" src=\"https://drive.google.com/uc?export=view&id=1i3Ln64JRfxMseKZ3ZdKFMsRofgn7Q1oY\">"
      ]
    },
    {
      "metadata": {
        "id": "oMvO2tlRQGQL",
        "colab_type": "code",
        "colab": {}
      },
      "cell_type": "code",
      "source": [
        ""
      ],
      "execution_count": 0,
      "outputs": []
    }
  ]
}