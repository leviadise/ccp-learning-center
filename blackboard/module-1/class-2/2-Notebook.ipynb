{
  "nbformat": 4,
  "nbformat_minor": 0,
  "metadata": {
    "colab": {
      "name": "1.2 Notebook Class 2",
      "version": "0.3.2",
      "provenance": [],
      "collapsed_sections": [
        "fCqwc1HjFWb8",
        "C1YNlZW7Lyih",
        "tpXgRZ2Zh6OA",
        "lVOAq5zjgQQe",
        "PKZ9gMbOgQQf"
      ],
      "toc_visible": true,
      "include_colab_link": true
    },
    "kernelspec": {
      "name": "python3",
      "display_name": "Python 3"
    }
  },
  "cells": [
    {
      "cell_type": "markdown",
      "metadata": {
        "id": "view-in-github",
        "colab_type": "text"
      },
      "source": [
        "<a href=\"https://colab.research.google.com/github/AliferSales/ccp-learning-center/blob/master/blackboard/module-1/class-2/2-Notebook.ipynb\" target=\"_parent\"><img src=\"https://colab.research.google.com/assets/colab-badge.svg\" alt=\"Open In Colab\"/></a>"
      ]
    },
    {
      "metadata": {
        "id": "cpGk-Wombrdb",
        "colab_type": "text"
      },
      "cell_type": "markdown",
      "source": [
        "# Capturing and storing the Waze data\n",
        "\n",
        "\n",
        "---\n",
        "\n",
        "Here, we'll learn how to capture and store systematically the Waze data which we describe in the previous section."
      ]
    },
    {
      "metadata": {
        "id": "0Q5oufKXbraV",
        "colab_type": "text"
      },
      "cell_type": "markdown",
      "source": [
        "## 1 - Overview\n",
        "---"
      ]
    },
    {
      "metadata": {
        "id": "yzwq2deNiKn2",
        "colab_type": "text"
      },
      "cell_type": "markdown",
      "source": [
        "Our mission in this class is capture and store de Waze data. To do this, we will learn in sections 2 and 3 how to get the data through the Waze GeoRSS API. Then, in the section 4 we will see how to capture automatically the data. Finally, we will store the captured data into a database, in the section 5.\n",
        "\n",
        "\n",
        "\n",
        "**NOTE: Before we begin, it's important that you already signed up for the Waze CCP through the [website](https://www.waze.com/en-GB/ccp) and finalized the register and partner agreements. Only after that will you can access the Waze GeoRSS API and all data we'll use in the course.**"
      ]
    },
    {
      "metadata": {
        "id": "g0Txw9U8brW8",
        "colab_type": "text"
      },
      "cell_type": "markdown",
      "source": [
        "## 2 - Getting the URL of the Waze GeoRSS API request\n",
        "---"
      ]
    },
    {
      "metadata": {
        "id": "wFiLV1jDbrT-",
        "colab_type": "text"
      },
      "cell_type": "markdown",
      "source": [
        "In this section we will see how to get the Waze data of any place of the world, using basically a polygon of the place. This polygon will be used on the Waze GeoRSS API URL request (which we will understand in detail in section 3) to indicate which parts of the world you want the data come from. So, our main changelle here is draw a specifc polygon of any part of the world map and get its lat-long coordinates to input on the url.\n",
        "\n",
        "Fortunately, Waze CCP made it quick and easy :D At the end of this section, we will have the URL Request for the polygon that we drew on the world map.\n",
        "\n",
        "Well, let's start our step by step!!! "
      ]
    },
    {
      "metadata": {
        "id": "iiWnoW55qm63",
        "colab_type": "text"
      },
      "cell_type": "markdown",
      "source": [
        "### 2.1 Acessing the Waze CCP Partner Portal"
      ]
    },
    {
      "metadata": {
        "id": "zhYwSNGqo54c",
        "colab_type": "text"
      },
      "cell_type": "markdown",
      "source": [
        "The first step is access the [Waze CCP Partner Portal](https://partnerdash.google.com/partnerdash/d/wazeccp). _If you want go directly to the portal and skip to the 2.2, just click in the previous link._\n",
        "\n",
        "1. Access the [Waze Website](https://www.waze.com/)\n",
        "  - https://www.waze.com\n",
        "2. In the Website menu, click in [Partners](https://www.waze.com/partners)\n",
        "3. Click in [Learn More](https://www.waze.com/ccp) on Waze Connected Citizens Program block.\n",
        "4. Then, click in [Partner Portal](https://partnerdash.google.com/partnerdash/) buttom.\n",
        "  - After that, you will see all your partner applications. If you'll be logged with the correct email registered on Waze CCP, you will see the follow image, with [`Waze CCP Partner Portal`](https://partnerdash.google.com/partnerdash/d/wazeccp), written below. Click on there.\n",
        "  \n",
        "  <img style=\"width=80px\" src=\"https://drive.google.com/uc?export=view&id=1eSZIqcB2xRmZDdlvJ_FShc6VIsiwaLo1\">\n",
        "\n",
        "Yes! We are in the Waze CCP Partner Portal. Let's continue!"
      ]
    },
    {
      "metadata": {
        "colab_type": "text",
        "id": "efBNks_8r2rD"
      },
      "cell_type": "markdown",
      "source": [
        "### 2.2 Drawing and generating the polygon "
      ]
    },
    {
      "metadata": {
        "id": "OTICEXNPo_2-",
        "colab_type": "text"
      },
      "cell_type": "markdown",
      "source": [
        "Now, inside the [`Waze CCP Partner Portal`](https://partnerdash.google.com/partnerdash/d/wazeccp), let's draw the polygon and get its coordinates.\n",
        "\n",
        "5. In the lateral menu, click in [`Get Waze Data`](https://partnerdash.google.com/partnerdash/d/wazeccp#p:id=receivedata)\n",
        "6. On the top of the page, click in **`Add Integration`**\n",
        "  - Some options will appear. Because we are working with JSON data structure on the course, we will choose `Get the JSON Waze API`. But, if you are working with XML format, just select `Get the XML Waze API` and you won't be problems - we hope!\n",
        "7. Select **`Get the JSON Waze API`** (_or `Get the XML Waze API`_).\n",
        "8. Select **`Custom Polygons`**.\n",
        "9. Click in the **text box**, which are writted `Add Polygon`. A window with a map inside will be openned.\n",
        "10. Move and use zoom on the map to localizate the place(s) that you want create the polygon(s). \n",
        "11. Click in the the **draw polygon icon** (\n",
        "  <img style=\"width=80px\" src=\"https://drive.google.com/uc?export=view&id=1-pAQoNi-WR_iYulw-PocdzjUBjJcL_3_\">\n",
        ") to, finally, draw the polygon(s) \n",
        "\n",
        "12. **Draw the polygon**, by clicking on the map.\n",
        "13. When you've finished, there will appear, in the text box over the map, a POLYGON object, that is the representation of the polygon that you made, where each tuple of 2 float is a point that you drew.\n",
        "  - A example is the polygon of Campinas, city of São Paulo:\n",
        "  ```\n",
        "   POLYGON((\n",
        "      -47.125 -22.87,-47.197 -22.958,-47.159 -23.029,\n",
        "      -47.061 -23.024,-46.996 -22.949,-46.947 -22.867,\n",
        "      -47.017 -22.8,-47.1 -22.834,-47.125 -22.87\n",
        "   ))\n",
        "  ```\n",
        "14. Press **`Ok`**. A new text box appears and you can draw more polygons, restarting from step 9. It's useful when your city is divided, as Alaska and the rest of the USA.\n",
        "15. Press **`Request`**.\n",
        "\n",
        "You will be redirected back to [`Get Waze Data`](https://partnerdash.google.com/partnerdash/d/wazeccp#p:id=receivedata) page, but now with the new request, which you just created. In there, you have access to the polygon(s) and to the **URL** of the request."
      ]
    },
    {
      "metadata": {
        "id": "xRUAbybq9QQ8",
        "colab_type": "text"
      },
      "cell_type": "markdown",
      "source": [
        "---\n",
        "The URL is very important because is through it that you will get the Waze data of a specific set of polygons. However, would be good if we understand well each part of the URL, right? So, let's go to the next section!\n",
        "\n",
        "---"
      ]
    },
    {
      "metadata": {
        "id": "rBOozV8E-b0y",
        "colab_type": "text"
      },
      "cell_type": "markdown",
      "source": [
        "## 3 - Understanding the URL request\n",
        "---"
      ]
    },
    {
      "metadata": {
        "id": "thiT7Hcy-b31",
        "colab_type": "text"
      },
      "cell_type": "markdown",
      "source": [
        "Here, we will understand in detail the Waze GeoRSS API URL Request. In a very simple way, this URL is a web address that according to some parameters chosen by the user (you), will return the Waze data, as we saw in the previous class. Then, we need to understand what is each of these parameters and how indicate, in the URL, which city or region of the world we want request the data.\n",
        "\n",
        "Let's begin with a example of the URL.\n",
        "\n",
        "```\n",
        "https://<something-confidential>?\n",
        "format=JSON&\n",
        "acotu=true&\n",
        "irmie=true&\n",
        "types=traffic%2Calerts%2Cirregularities&\n",
        "tk=ccp_partner&\n",
        "ccp_partner_name=Organization+Partner+Name&\n",
        "polygon=-46.774,-23.482;-46.77,-23.597;-46.608,-23.715;-46.527,-23.659;-46.57,-23.581;-46.412,-23.567;-46.449,-23.461;-46.774,-23.482\n",
        "```\n",
        "\n",
        "Each line, from the second, is a parameter of the URL. So, let's discover what is each of these."
      ]
    },
    {
      "metadata": {
        "id": "DhHKlnR1-b6T",
        "colab_type": "text"
      },
      "cell_type": "markdown",
      "source": [
        "### 3.1 The parameters"
      ]
    },
    {
      "metadata": {
        "id": "zv49WuEz-b9v",
        "colab_type": "text"
      },
      "cell_type": "markdown",
      "source": [
        "We summarize the fields in the following table.\n",
        "\n",
        "<table>\n",
        "  <tr>\n",
        "    <th> Parameter </th>\n",
        "    <th> Description </th>\n",
        "  </tr>\n",
        "  <tr>\n",
        "    <td> https://&#60;something-confidential&#62;  </td>\n",
        "    <td> GeoRSS Waze API address. </td>\n",
        "  </tr>\n",
        "  <tr>\n",
        "    <td> format </td>\n",
        "    <td> Data format option. Only `JSON` or `XML` is accept.\n",
        " </td>\n",
        "  </tr>\n",
        "  <tr>\n",
        "    <td> acotu </td>\n",
        "    <td> \n",
        "      Receives the number of thumbs up by users on alerts.<br>\n",
        "      It's optional and only accept `true` or `false`.\n",
        "    </td>\n",
        "  </tr>\n",
        "  <tr>\n",
        "    <td> irmie </td>\n",
        "    <td> Receives irregularities by users. Only `true` or `false` is accept. </td>\n",
        "  </tr>\n",
        "  <tr>\n",
        "    <td> types </td>\n",
        "    <td> \n",
        "      Choose any of the Waze data types. <br>\n",
        "      The accepted inputs are `traffic`, `alerts` or `irregularities` and at least one is required. \n",
        "    </td>\n",
        "  </tr>\n",
        "  <tr>\n",
        "    <td> tk </td>\n",
        "    <td> CCP organization token. *Use `ccp_partner`*</td>\n",
        "  </tr>\n",
        "  <tr>\n",
        "    <td> ccp_partner_name </td>\n",
        "    <td> CCP organization partner name. </td>\n",
        "  </tr>\n",
        "  <tr>\n",
        "    <td> polygon </td>\n",
        "    <td> The polygon of the place where the data comes from. </td>\n",
        "  </tr>\n",
        "</table>\n",
        "<br>\n",
        "*NOTE: For security reasons, we do not display the actual GeoRSS Waze API address on this notebook. To know it, use the url of the Integration that you created on the previous section, accessing the [`Get Waze Data`](https://partnerdash.google.com/partnerdash/d/wazeccp#p:id=receivedata) page on the [`Waze CCP Partner Portal`](https://partnerdash.google.com/partnerdash/d/wazeccp).*"
      ]
    },
    {
      "metadata": {
        "id": "II77RDLP-cAE",
        "colab_type": "text"
      },
      "cell_type": "markdown",
      "source": [
        "---\n",
        "We already know the URL. Good. Very good! This means that you already can request the Waze Data of your city and create interesting analysis. For that, you will need, first of all, capture this data. Therefore, our next section is exactly about how to do it. \n",
        "\n",
        "---"
      ]
    },
    {
      "metadata": {
        "id": "HSy4oRXs-cCy",
        "colab_type": "text"
      },
      "cell_type": "markdown",
      "source": [
        "## 4 - Capturing Waze Data with Python \n",
        "---"
      ]
    },
    {
      "metadata": {
        "id": "5bEKC68SdjHm",
        "colab_type": "text"
      },
      "cell_type": "markdown",
      "source": [
        "This is a very important section of Module 1. Here, we will show how to capture the Waze Data automatically every minute. Our steps to do this are:\n",
        "\n",
        "1. Get data from Waze GeoRSS API\n",
        "2. Save data to the disk as a file\n",
        "3. Do it every 1 minute, using Cron\n",
        "\n",
        "To do this, we will use the programming language [Python 3](https://www.python.org/). If you prefer to use another programming language or another version of Python, you should be able to do it without problems.\n",
        "\n",
        "We will also need of some Python libraries: [requests](https://pypi.org/project/requests/), [json](https://docs.python.org/3.5/library/json.html) and [datetime](https://docs.python.org/3.5/library/datetime.html). Let's import them."
      ]
    },
    {
      "metadata": {
        "id": "c1GBf-p_k9GS",
        "colab_type": "code",
        "colab": {}
      },
      "cell_type": "code",
      "source": [
        "import requests\n",
        "import json\n",
        "from datetime import datetime"
      ],
      "execution_count": 0,
      "outputs": []
    },
    {
      "metadata": {
        "id": "_ZMqOKtldjKV",
        "colab_type": "text"
      },
      "cell_type": "markdown",
      "source": [
        "### 4.1 Getting data from Waze GeoRSS API"
      ]
    },
    {
      "metadata": {
        "id": "oatGGWuAdjM1",
        "colab_type": "text"
      },
      "cell_type": "markdown",
      "source": [
        "As we saw in the previous class, the way of we get the data from Waze GeoRSS API is through the URL Request. To see it, use your browser to access the url and you'll see the so desired Waze Data.\n",
        "\n",
        "First, we will use the imported library `requests` to get this data, using the URL. Moreover, it's important identify the city which the data from.\n",
        "\n",
        "**_Note: Use the form to insert the city and its respective URL._**"
      ]
    },
    {
      "metadata": {
        "id": "-4U5uaiTlwTo",
        "colab_type": "code",
        "colab": {}
      },
      "cell_type": "code",
      "source": [
        "#@title Insert the city name\n",
        "\n",
        "# City name\n",
        "city = \"\" #@param {type:\"string\"}\n",
        "\n",
        "# URL of Waze GeoRSS API\n",
        "url = \"\" #@param {type:\"string\"}"
      ],
      "execution_count": 0,
      "outputs": []
    },
    {
      "metadata": {
        "id": "kobZ6ls9djPp",
        "colab_type": "text"
      },
      "cell_type": "markdown",
      "source": [
        "Now, let's create the function `get_data(url)` that receives the URL and return the Waze data as a string."
      ]
    },
    {
      "metadata": {
        "id": "z1wjCzE8mm0e",
        "colab_type": "code",
        "colab": {
          "base_uri": "https://localhost:8080/",
          "height": 71
        },
        "outputId": "29c4a989-5d55-4794-8088-92a560f5b41b"
      },
      "cell_type": "code",
      "source": [
        "def get_data(url):\n",
        "    \"\"\"\n",
        "    Return the data content in the url address.\n",
        "    \n",
        "    :param url: string | URL which the content will be extracted.\n",
        "    :return: string | URL returned content.\n",
        "    \"\"\"\n",
        "\n",
        "    headers = {'user-agent': \"Mozilla/5.0 (X11; Fedora; Linux x86_64; rv:38.0) Gecko/20100101 Firefox/38.0\",}\n",
        "    response = requests.get(url, headers=headers)\n",
        "\n",
        "    return response.text.encode('utf-8')\n",
        "  \n",
        "data = get_data(url)\n",
        "print('City: {}'.format(city))\n",
        "print('Waze data: {}'.format(data))\n"
      ],
      "execution_count": 5,
      "outputs": [
        {
          "output_type": "stream",
          "text": [
            "City: Lima\n",
            "Waze data: Waze data: {\"alerts\":[{\"country\":\"PE\",\"nThumbsUp\":0,\"city\":\"Chorrillos\",\"reportRating\":1,\"confidence\":0,\"reliability\":5,\"type\":\"JAM\",\"uuid\":\"99a8cd46-2b88-3250-9daf-43b77cb94d18\",\"roadType\":4,\"magvar\":0,\"subtype\":\"JAM_HEAVY_TRAFFIC\",\"street\":\"Subida a Chorrillos\",\"location\":{\"x\":-77.025361,\"y\":-12.160636},\"pubMillis\":1545007416906},{\"country\":\"PE\",\"nThumbsUp\":4,\"city\":\"Miraflores\",\"reportRating\":0,\"confidence\":2,\"reliability\":10,\"type\":\"ROAD_CLOSED\",\"uuid\":\"098f067c-df6e-3d5c-ad3b-c11676c09339\",\"magvar\":0,\"subtype\":\"ROAD_CLOSED_EVENT\",\"reportDescription\":\"Obras\",\"location\":{\"x\":-77.028415,\"y\":-12.136623},\"pubMillis\":1544830124044},{\"country\":\"PE\",\"nThumbsUp\":2,\"city\":\"Miraflores\",\"reportRating\":0,\"confidence\":1,\"reliability\":8,\"type\":\"ROAD_CLOSED\",\"uuid\":\"a09fa548-e3fd-3008-8bd0-14b185d7c2cf\",\"magvar\":0,\"subtype\":\"ROAD_CLOSED_EVENT\",\"reportDescription\":\"Obras\",\"location\":{\"x\":-77.029066,\"y\":-12.135639},\"pubMillis\":1544830162306},{\"country\":\"PE\",\"nThumbsUp\":2,\"city\":\"Chorrillos\",\"reportRating\":2,\"confidence\":1,\"reliability\":7,\"type\":\"JAM\",\"uuid\":\"3f003e22-fbc5-3a7f-9a4c-5ef64ffcc852\",\"roadType\":2,\"magvar\":317,\"subtype\":\"JAM_HEAVY_TRAFFIC\",\"street\":\"Av. Defensores del Morro\",\"location\":{\"x\":-77.022191,\"y\":-12.171097},\"pubMillis\":1545007451322},{\"country\":\"PE\",\"nThumbsUp\":0,\"city\":\"Chorrillos\",\"reportRating\":2,\"confidence\":0,\"reliability\":5,\"type\":\"JAM\",\"uuid\":\"f2fd4fba-39e9-30b9-8980-7c18e6f75a8d\",\"roadType\":2,\"magvar\":287,\"subtype\":\"JAM_STAND_STILL_TRAFFIC\",\"street\":\"Av. El Sol\",\"location\":{\"x\":-77.003503,\"y\":-12.173805},\"pubMillis\":1545007803356},{\"country\":\"PE\",\"nThumbsUp\":0,\"city\":\"Santiago de Surco\",\"reportRating\":3,\"confidence\":0,\"reliability\":5,\"type\":\"ACCIDENT\",\"uuid\":\"b6d6c4f3-c1b1-3e96-a90d-2f0963b065ed\",\"roadType\":2,\"magvar\":32,\"subtype\":\"ACCIDENT_MINOR\",\"street\":\"Av. Surco\",\"location\":{\"x\":-76.993952,\"y\":-12.13955},\"pubMillis\":1545007854383},{\"country\":\"PE\",\"nThumbsUp\":0,\"city\":\"Miraflores\",\"reportRating\":1,\"confidence\":0,\"reliability\":5,\"type\":\"JAM\",\"uuid\":\"56a9e09e-bbe4-3329-b17a-5470c0610f45\",\"roadType\":2,\"magvar\":345,\"subtype\":\"\",\"street\":\"Av. La Paz\",\"location\":{\"x\":-77.025913,\"y\":-12.13161},\"pubMillis\":1545008067759},{\"country\":\"PE\",\"nThumbsUp\":0,\"city\":\"Chorrillos\",\"reportRating\":0,\"confidence\":0,\"reliability\":5,\"type\":\"JAM\",\"uuid\":\"3dc0ba00-893f-30a2-a95d-85e3f4fd5fcf\",\"roadType\":2,\"magvar\":136,\"subtype\":\"JAM_HEAVY_TRAFFIC\",\"street\":\"Av. Defensores del Morro\",\"location\":{\"x\":-77.014607,\"y\":-12.179106},\"pubMillis\":1545008255133},{\"country\":\"PE\",\"nThumbsUp\":0,\"city\":\"Chorrillos\",\"reportRating\":4,\"confidence\":0,\"reliability\":5,\"type\":\"JAM\",\"uuid\":\"4a59f77d-f04b-3e11-8283-68b02a689f96\",\"roadType\":2,\"magvar\":227,\"subtype\":\"JAM_HEAVY_TRAFFIC\",\"street\":\"Av. Ariosto Matellini\",\"location\":{\"x\":-77.008617,\"y\":-12.177938},\"pubMillis\":1545008354139},{\"country\":\"PE\",\"nThumbsUp\":0,\"city\":\"Chorrillos\",\"reportRating\":4,\"confidence\":0,\"reliability\":5,\"type\":\"JAM\",\"uuid\":\"6a620455-9954-3d5a-acb5-852033d28910\",\"roadType\":2,\"magvar\":229,\"subtype\":\"JAM_HEAVY_TRAFFIC\",\"street\":\"Av. Ariosto Matellini\",\"location\":{\"x\":-77.009167,\"y\":-12.178417},\"pubMillis\":1545008418851},{\"country\":\"PE\",\"nThumbsUp\":0,\"city\":\"Chorrillos\",\"reportRating\":2,\"confidence\":0,\"reliability\":5,\"type\":\"JAM\",\"uuid\":\"17966b2a-1231-3d27-9c51-14356dcd5898\",\"roadType\":1,\"magvar\":138,\"subtype\":\"JAM_HEAVY_TRAFFIC\",\"street\":\"Prolongación Paseo de la República\",\"location\":{\"x\":-77.015712,\"y\":-12.172823},\"pubMillis\":1545008443365},{\"country\":\"PE\",\"nThumbsUp\":0,\"city\":\"Santiago de Surco\",\"reportRating\":3,\"confidence\":0,\"reliability\":5,\"type\":\"ACCIDENT\",\"uuid\":\"823c0342-1f98-319b-a5f0-aafcd1ba7020\",\"roadType\":1,\"magvar\":87,\"subtype\":\"ACCIDENT_MINOR\",\"location\":{\"x\":-76.993886,\"y\":-12.139697},\"pubMillis\":1545008496284},{\"country\":\"PE\",\"nThumbsUp\":0,\"city\":\"Chorrillos\",\"reportRating\":4,\"confidence\":0,\"reliability\":5,\"type\":\"JAM\",\"uuid\":\"90b4d433-c35a-33d0-8fe9-1fcf8ca1845f\",\"roadType\":2,\"magvar\":228,\"subtype\":\"JAM_HEAVY_TRAFFIC\",\"street\":\"Av. Ariosto Matellini\",\"location\":{\"x\":-77.012035,\"y\":-12.180912},\"pubMillis\":1545008551188},{\"country\":\"PE\",\"nThumbsUp\":0,\"city\":\"Chorrillos\",\"reportRating\":3,\"confidence\":0,\"reliability\":5,\"type\":\"JAM\",\"uuid\":\"5d9816a0-8487-30ca-b712-78db78a713f9\",\"roadType\":2,\"magvar\":318,\"subtype\":\"JAM_HEAVY_TRAFFIC\",\"street\":\"Av. Guardia Peruana\",\"location\":{\"x\":-77.007009,\"y\":-12.176291},\"pubMillis\":1545008557184},{\"country\":\"PE\",\"nThumbsUp\":0,\"city\":\"Chorrillos\",\"reportRating\":2,\"confidence\":2,\"reliability\":10,\"type\":\"JAM\",\"uuid\":\"ba7cc2cd-c281-3994-a326-9a320cdc9803\",\"roadType\":2,\"magvar\":319,\"subtype\":\"JAM_STAND_STILL_TRAFFIC\",\"street\":\"Av. Paseo de la República\",\"location\":{\"x\":-77.008641,\"y\":-12.180084},\"pubMillis\":1545005867016},{\"country\":\"PE\",\"nThumbsUp\":0,\"city\":\"Chorrillos\",\"reportRating\":1,\"confidence\":0,\"reliability\":5,\"type\":\"JAM\",\"uuid\":\"b12f2854-bbdd-3977-8952-b75069460169\",\"roadType\":2,\"magvar\":40,\"subtype\":\"JAM_HEAVY_TRAFFIC\",\"street\":\"Av. Guardia Civil\",\"location\":{\"x\":-76.994593,\"y\":-12.176287},\"pubMillis\":1545006774168},{\"country\":\"PE\",\"nThumbsUp\":2,\"city\":\"Chorrillos\",\"reportRating\":2,\"confidence\":1,\"reliability\":7,\"type\":\"WEATHERHAZARD\",\"uuid\":\"4cb93085-8f1c-37ae-a0a1-c7311f9d4e8b\",\"roadType\":2,\"magvar\":7,\"subtype\":\"HAZARD_ON_ROAD_CAR_STOPPED\",\"street\":\"Av. Chorrillos\",\"location\":{\"x\":-77.02319,\"y\":-12.159173},\"pubMillis\":1545006813465},{\"country\":\"PE\",\"nThumbsUp\":0,\"city\":\"Chorrillos\",\"reportRating\":3,\"confidence\":0,\"reliability\":5,\"type\":\"JAM\",\"uuid\":\"654098aa-dbf8-35b9-989a-5927577815f6\",\"roadType\":2,\"magvar\":48,\"subtype\":\"JAM_STAND_STILL_TRAFFIC\",\"street\":\"Av. Ariosto Matellini\",\"location\":{\"x\":-77.009787,\"y\":-12.179123},\"pubMillis\":1545006847659},{\"country\":\"PE\",\"nThumbsUp\":0,\"city\":\"Santiago de Surco\",\"reportRating\":1,\"confidence\":0,\"reliability\":5,\"type\":\"JAM\",\"uuid\":\"eae90d5d-e796-3d91-9774-da3fa3160d00\",\"roadType\":2,\"magvar\":326,\"subtype\":\"JAM_HEAVY_TRAFFIC\",\"street\":\"Av. Santiago de Surco\",\"location\":{\"x\":-76.996587,\"y\":-12.135019},\"pubMillis\":1545006899205},{\"country\":\"PE\",\"nThumbsUp\":0,\"city\":\"Santiago de Surco\",\"reportRating\":2,\"confidence\":0,\"reliability\":5,\"type\":\"JAM\",\"uuid\":\"29ac2b5f-2eec-3e75-a97a-3de1c9fbc795\",\"roadType\":1,\"magvar\":132,\"subtype\":\"JAM_HEAVY_TRAFFIC\",\"street\":\"San Juan\",\"location\":{\"x\":-76.99986,\"y\":-12.146409},\"pubMillis\":1545006970117},{\"country\":\"PE\",\"nThumbsUp\":0,\"city\":\"Santiago de Surco\",\"reportRating\":2,\"confidence\":0,\"reliability\":5,\"type\":\"JAM\",\"uuid\":\"72a30e0b-0e4e-3478-8a0b-fa1b548a1c8d\",\"roadType\":2,\"magvar\":178,\"subtype\":\"JAM_HEAVY_TRAFFIC\",\"street\":\"Av. República de Panamá\",\"location\":{\"x\":-77.017922,\"y\":-12.131645},\"pubMillis\":1545007037976},{\"country\":\"PE\",\"nThumbsUp\":0,\"city\":\"Chorrillos\",\"reportRating\":1,\"confidence\":0,\"reliability\":5,\"type\":\"JAM\",\"uuid\":\"948fbe69-e53b-36fe-a22f-3645b7dd7898\",\"roadType\":2,\"magvar\":317,\"subtype\":\"JAM_HEAVY_TRAFFIC\",\"street\":\"Av. Defensores del Morro\",\"location\":{\"x\":-77.011873,\"y\":-12.181769},\"pubMillis\":1545007057224},{\"country\":\"PE\",\"nThumbsUp\":0,\"city\":\"Chorrillos\",\"reportRating\":0,\"confidence\":0,\"reliability\":5,\"type\":\"JAM\",\"uuid\":\"6ec50f1e-70fe-32d0-a222-e57d118e52c4\",\"roadType\":1,\"magvar\":130,\"subtype\":\"JAM_STAND_STILL_TRAFFIC\",\"street\":\"Tolomeo\",\"location\":{\"x\":-77,\"y\":-12.183703},\"pubMillis\":1545007095053},{\"country\":\"PE\",\"nThumbsUp\":6,\"city\":\"Chorrillos\",\"reportRating\":3,\"confidence\":2,\"reliability\":10,\"type\":\"WEATHERHAZARD\",\"uuid\":\"4df20923-1935-3243-9ee6-6eda657371d1\",\"roadType\":4,\"magvar\":88,\"subtype\":\"HAZARD_ON_ROAD_CAR_STOPPED\",\"street\":\"Subida a Chorrillos\",\"location\":{\"x\":-77.025137,\"y\":-12.160272},\"pubMillis\":1545007097000},{\"country\":\"PE\",\"nThumbsUp\":0,\"city\":\"Chorrillos\",\"reportRating\":3,\"confidence\":0,\"reliability\":5,\"type\":\"WEATHERHAZARD\",\"uuid\":\"c9634727-1298-38de-a815-a15e3a59c16b\",\"roadType\":2,\"magvar\":172,\"subtype\":\"HAZARD_ON_ROAD_CAR_STOPPED\",\"street\":\"Bajada Huaylas\",\"location\":{\"x\":-77.024773,\"y\":-12.161428},\"pubMillis\":1545007111801},{\"country\":\"PE\",\"nThumbsUp\":0,\"city\":\"Chorrillos\",\"reportRating\":3,\"confidence\":0,\"reliability\":5,\"type\":\"JAM\",\"uuid\":\"9c11a072-ee3c-3097-bc18-38784c35328f\",\"roadType\":2,\"magvar\":317,\"subtype\":\"JAM_STAND_STILL_TRAFFIC\",\"street\":\"Av. Defensores del Morro\",\"location\":{\"x\":-77.024381,\"y\":-12.168771},\"pubMillis\":1545007192051},{\"country\":\"PE\",\"nThumbsUp\":0,\"city\":\"Chorrillos\",\"reportRating\":2,\"confidence\":0,\"reliability\":5,\"type\":\"JAM\",\"uuid\":\"9e7f86a5-46ad-349e-8d42-55f5d2b78392\",\"roadType\":2,\"magvar\":318,\"subtype\":\"JAM_STAND_STILL_TRAFFIC\",\"street\":\"Av. Defensores del Morro\",\"location\":{\"x\":-77.022284,\"y\":-12.170998},\"pubMillis\":1545007354020},{\"country\":\"PE\",\"nThumbsUp\":3,\"city\":\"Carmen de la Legua Reynoso\",\"reportRating\":2,\"confidence\":1,\"reliability\":8,\"type\":\"JAM\",\"uuid\":\"98541cf0-20bd-37eb-9fa3-f64041053984\",\"roadType\":2,\"magvar\":355,\"subtype\":\"JAM_HEAVY_TRAFFIC\",\"street\":\"Av. Elmer Faucett\",\"location\":{\"x\":-77.098356,\"y\":-12.047676},\"pubMillis\":1545006876090},{\"country\":\"PE\",\"nThumbsUp\":0,\"city\":\"San Miguel\",\"reportRating\":0,\"confidence\":0,\"reliability\":5,\"type\":\"JAM\",\"uuid\":\"232a48ba-49ca-3850-b9c0-bee7b3a81113\",\"roadType\":2,\"magvar\":286,\"subtype\":\"JAM_HEAVY_TRAFFIC\",\"street\":\"Av. De La Marina\",\"location\":{\"x\":-77.092317,\"y\":-12.077637},\"pubMillis\":1545006898291},{\"country\":\"PE\",\"nThumbsUp\":0,\"city\":\"Callao\",\"reportRating\":3,\"confidence\":0,\"reliability\":6,\"type\":\"JAM\",\"uuid\":\"95882a41-d556-312a-936b-9825f2021474\",\"roadType\":2,\"magvar\":172,\"subtype\":\"JAM_MODERATE_TRAFFIC\",\"street\":\"Av. Elmer Faucett\",\"location\":{\"x\":-77.098525,\"y\":-12.047332},\"pubMillis\":1545006913231},{\"country\":\"PE\",\"nThumbsUp\":7,\"city\":\"San Miguel\",\"reportRating\":0,\"confidence\":3,\"reliability\":10,\"type\":\"ROAD_CLOSED\",\"uuid\":\"9dafbff7-0973-3c52-a128-2d3176680521\",\"magvar\":0,\"subtype\":\"ROAD_CLOSED_EVENT\",\"street\":\"Mantaro\",\"reportDescript[...]\n"
          ],
          "name": "stdout"
        }
      ]
    },
    {
      "metadata": {
        "id": "zWHBJutTdjSY",
        "colab_type": "text"
      },
      "cell_type": "markdown",
      "source": [
        "Tcharam! We already have the Waze data in our notebook. :D\n",
        "\n",
        "Now, we need save it in a file."
      ]
    },
    {
      "metadata": {
        "id": "id_htkXxq4Lt",
        "colab_type": "text"
      },
      "cell_type": "markdown",
      "source": [
        "### 4.2 Saving the data in a file"
      ]
    },
    {
      "metadata": {
        "id": "alIe5Xv4rFNO",
        "colab_type": "text"
      },
      "cell_type": "markdown",
      "source": [
        "Let's save the data in a json file. To do it, we just need to use the imported library `json` and its method `jump`. But, before, we need to define the file name and indicate the local path where the file will be saved. \n",
        "\n",
        "We suggest that the file name have the format `{city}_{date}.json`, because it's simple to identificate the city and hour of the data _(Remember: it's just a suggestion)_.And the local path depends on where you decided to store the data.\n",
        "\n",
        "**_Note: The folders on the local path must already be created._**"
      ]
    },
    {
      "metadata": {
        "id": "vlhkFqO7o2ug",
        "colab_type": "code",
        "colab": {}
      },
      "cell_type": "code",
      "source": [
        "# Local path where the data will be saved.\n",
        "local_path = \"data/raw/\" #@param {type:\"string\"}\n",
        "\n",
        "\n",
        "# Creating the name file\n",
        "def get_date_string():\n",
        "    \"\"\"Return the current date and hour as a string.\"\"\"\n",
        "    \n",
        "    return datetime.strftime(datetime.now(), '%Y-%m-%d %H:%M:%S')\n",
        "\n",
        "\n",
        "def get_file_name(city):\n",
        "    \"\"\"\n",
        "    Return the name of the Waze data file, based on the city and current hour.\n",
        "    :param city: string | City name\n",
        "    :return: string | name file\n",
        "    \"\"\"\n",
        "    \n",
        "    return '{city}_{date}.json'.format(city=city, date=get_date_string())\n",
        "\n",
        "# Save the data in the json file\n",
        "json.dump(json.loads(data), open(local_path + get_file_name(city), 'w'))"
      ],
      "execution_count": 0,
      "outputs": []
    },
    {
      "metadata": {
        "id": "kcZo7qyrZoSd",
        "colab_type": "text"
      },
      "cell_type": "markdown",
      "source": [
        "Amazing! Our file alredy is saved. Now, because de data returned by Waze GeoRSS API is updated every minute, we need run again this script every minute."
      ]
    },
    {
      "metadata": {
        "id": "HKBcLq5io4Od",
        "colab_type": "text"
      },
      "cell_type": "markdown",
      "source": [
        "### 4.3 Scheduling the capture to run every minute"
      ]
    },
    {
      "metadata": {
        "id": "ZjnJLvqQo4Lc",
        "colab_type": "text"
      },
      "cell_type": "markdown",
      "source": [
        "As the data provided by Waze GeoRSS API change every minute and we can't recover it, we need request the data and save it minute by minute. But, it would be impossible run the capture script manually every minute, right? So, don't worry. Here is the solution: [Cron](http://pubs.opengroup.org/onlinepubs/9699919799/utilities/crontab.html)!\n",
        "\n",
        "**Cron** is a time-based job scheduler software utility, i.e., a way of schedule specific jobs (Command Line commands) to run, several times, by a determinated time rule. So you can run a command every monday at 9:14 p.m., every time of every month first day or every second (our case).\n",
        "\n",
        "To do it, we will need run our capture script from the command line interface. So, the first step is join our script in a unique `.py` file:\n",
        "\n",
        "1. Open your **Command Line Interface (CLI)**.\n",
        "2. Go to the folder where you want store the capture script and create the file `fecth-data.py`. \n",
        "    -  Use the following command,  replacing `$CAPTURE_FOLDER_PATH` by you capture folder path.\n",
        "    \n",
        "        - ```$ cd $CAPTURE_FOLDER_PATH; touch fecth-data.py```\n",
        "    \n",
        "3. Edit the file ( `$nano fetch-data.py`) and paste the following script:\n",
        "    - We also imported `pathlib` and `sys` library, only to ensure that no path error occurs."
      ]
    },
    {
      "metadata": {
        "id": "pa-yIq13o2rs",
        "colab_type": "code",
        "colab": {}
      },
      "cell_type": "code",
      "source": [
        "import requests\n",
        "import json\n",
        "from datetime import datetime\n",
        "from pathlib import Path\n",
        "import sys\n",
        "\n",
        "def get_data(url):\n",
        "    \"\"\"\n",
        "    Return the data content in the url address.\n",
        "    \n",
        "    :param url: string | URL which the content will be extracted.\n",
        "    :return: string | URL returned content.\n",
        "    \"\"\"\n",
        "\n",
        "    headers = {'user-agent': \"Mozilla/5.0 (X11; Fedora; Linux x86_64; rv:38.0) Gecko/20100101 Firefox/38.0\",}\n",
        "    response = requests.get(url, headers=headers)\n",
        "\n",
        "    return response.text.encode('utf-8')\n",
        "\n",
        "\n",
        "def get_date_string():\n",
        "    \"\"\"Return the current date and hour as a string.\"\"\"\n",
        "    \n",
        "    return datetime.strftime(datetime.now(), '%Y-%m-%d %H:%M:%S')\n",
        "\n",
        "\n",
        "def get_file_name(city):\n",
        "    \"\"\"\n",
        "    Return the name of the Waze data file, based on the city and current hour.\n",
        "    :param city: string | City name\n",
        "    :return: string | name file\n",
        "    \"\"\"\n",
        "    \n",
        "    return '{city}_{date}.json'.format(city=city, date=get_date_string())\n",
        "\n",
        "\n",
        "if __name__ == '__main__':\n",
        "    # city name\n",
        "    city = \"\" #@param {type:\"string\"}\n",
        "\n",
        "    # URL of Waze GeoRSS API\n",
        "    url = \"\" #@param {type:\"string\"}\n",
        "    \n",
        "    # fetch data\n",
        "    data = get_data(url)\n",
        "    file_name = get_file_name(city)\n",
        "    \n",
        "    # local path where the data will be saved.\n",
        "    local_path = \"data/raw/\" #@param {type:\"string\"}\n",
        "    \n",
        "    # save data\n",
        "    full_path = Path(sys.argv[0]).resolve().parent / local_path\n",
        "    json.dump(data, open(full_path / file_name, 'w'))\n",
        "    \n",
        "    print('Data Captured!')"
      ],
      "execution_count": 0,
      "outputs": []
    },
    {
      "metadata": {
        "id": "dTDDfWfPo4Ir",
        "colab_type": "text"
      },
      "cell_type": "markdown",
      "source": [
        "To run this script using the CLI, we need to use the following command:\n",
        "\n",
        "```\n",
        "$ cd $CAPTURE_FOLDER_PATH \n",
        "$ python3 fecth-data.py\n",
        "```\n",
        "\n",
        "Then, we just need use cron to schedule this commands to run every minute.\n",
        "\n",
        "4. In the CLI, run **`$ crontab -e`** to open the crontab file.\n",
        "    - This is the file where you schedule your cron jobs.\n",
        "5. Insert the following line on crontab file and save (`CTRL+X`):\n",
        "\n",
        "    ```\n",
        "    * * * * *    cd $CAPTURE_FOLDER_PATH; python3 fecth-data.py \n",
        "    ```\n",
        "\n",
        "`* * * * *` is the cron schedule expression that indicates to cron run `cd $CAPTURE_FOLDER_PATH; python3 fecth-data.py` every minute. \n",
        "\n",
        "To know more about cron, [click here](https://code.tutsplus.com/tutorials/scheduling-tasks-with-cron-jobs--net-8800) and to know about cron schedule expression, [click here](https://crontab.guru/) "
      ]
    },
    {
      "metadata": {
        "id": "ruI7blzR6v1H",
        "colab_type": "text"
      },
      "cell_type": "markdown",
      "source": [
        "---\n",
        "Done! The capture is already working and you have the waze data of your city being captured every minute. But, to use the data and make interesting traffic analyses, we need access all the data in a quick and simple way. Then, we need to store this data in a database, out mission in the next section.\n",
        "\n",
        "---"
      ]
    },
    {
      "metadata": {
        "id": "7my68z8to4F2",
        "colab_type": "text"
      },
      "cell_type": "markdown",
      "source": [
        "## 5 - Storing the data on database\n",
        "---"
      ]
    },
    {
      "metadata": {
        "id": "FWc6SciE-WhB",
        "colab_type": "text"
      },
      "cell_type": "markdown",
      "source": [
        "The Waze data of your city are being captured every minute. Now, for each file generated by our capture script, we will need run another script to store this data in a database. With the data stored in a database, we will be able to make the traffic analyses more easily.\n",
        "\n",
        "We will use the open source object-relational database **[PostgreSQL](https://www.postgresql.org/)** to store the data during the course. However, you can use any database according to your preference.\n",
        "\n",
        "This section is divided in 4 parts:\n",
        "\n",
        "1. Prepare the database\n",
        "2. Load Waze data\n",
        "3. Load database schema\n",
        "4. Insert to database\n",
        "\n",
        "Before we begin, we need to import some libraries which we will use to our Python environment:"
      ]
    },
    {
      "metadata": {
        "id": "6fkSTpuRZJ9J",
        "colab_type": "code",
        "colab": {}
      },
      "cell_type": "code",
      "source": [
        "from sqlalchemy import create_engine, MetaData\n",
        "import json\n",
        "import sys\n",
        "from datetime import datetime\n",
        "from collections import defaultdict\n"
      ],
      "execution_count": 0,
      "outputs": []
    },
    {
      "metadata": {
        "id": "qN5SeKjT1H57",
        "colab_type": "text"
      },
      "cell_type": "markdown",
      "source": [
        "### 5.1 Preparing the database"
      ]
    },
    {
      "metadata": {
        "id": "T0v2Mr4V16fC",
        "colab_type": "text"
      },
      "cell_type": "markdown",
      "source": [
        "First, we need our database to be prepared to receive the Waze data. Therefore, we create the following SQL Schema, which you can simply run in your database, where:\n",
        "\n",
        "1. we create a new schema namely `waze`;\n",
        "2. create and populate two tables, `roads` and `alert_types`,  to store the roads types and alert types; and\n",
        "3. create our main tables `jams`,  `alerts` and `irregularities` where the data will be stored."
      ]
    },
    {
      "metadata": {
        "id": "6143nA29SkjS",
        "colab_type": "text"
      },
      "cell_type": "markdown",
      "source": [
        "```sql\n",
        "CREATE SCHEMA waze;\n",
        "\n",
        "-- roads table\n",
        "CREATE TABLE waze.roads \n",
        "(\n",
        "  \"id\"                              SERIAL PRIMARY KEY,\n",
        "  \"value\"                           INT NOT NULL,\n",
        "  \"name\"                            VARCHAR(100) NOT NULL\n",
        ");\n",
        "\n",
        "-- load roads\n",
        "INSERT INTO waze.roads (value, name) VALUES (1, 'Streets');\n",
        "INSERT INTO waze.roads (value, name) VALUES (2, 'Primary Street');\n",
        "INSERT INTO waze.roads (value, name) VALUES (3, 'Freeways');\n",
        "INSERT INTO waze.roads (value, name) VALUES (4, 'Ramps');\n",
        "INSERT INTO waze.roads (value, name) VALUES (5, 'Trails');\n",
        "INSERT INTO waze.roads (value, name) VALUES (6, 'Primary');\n",
        "INSERT INTO waze.roads (value, name) VALUES (7, 'Secondary');\n",
        "INSERT INTO waze.roads (value, name) VALUES (8, '4X4 Trails');\n",
        "INSERT INTO waze.roads (value, name) VALUES (9, 'Walkway');\n",
        "INSERT INTO waze.roads (value, name) VALUES (10, 'Pedestrian');\n",
        "INSERT INTO waze.roads (value, name) VALUES (11, 'Exit');\n",
        "INSERT INTO waze.roads (value, name) VALUES (12, '?');\n",
        "INSERT INTO waze.roads (value, name) VALUES (13, '?');\n",
        "INSERT INTO waze.roads (value, name) VALUES (14, '4X4 Trails');\n",
        "INSERT INTO waze.roads (value, name) VALUES (15, 'Ferry crossing');\n",
        "INSERT INTO waze.roads (value, name) VALUES (16, 'Stairway');\n",
        "INSERT INTO waze.roads (value, name) VALUES (17, 'Private road');\n",
        "INSERT INTO waze.roads (value, name) VALUES (18, 'Railroads');\n",
        "INSERT INTO waze.roads (value, name) VALUES (19, 'Runway/Taxiway');\n",
        "INSERT INTO waze.roads (value, name) VALUES (20, 'Parking lot road');\n",
        "INSERT INTO waze.roads (value, name) VALUES (21, 'Service road');\n",
        "\n",
        "-- alert type table\n",
        "CREATE TABLE waze.alert_types \n",
        "(\n",
        "  \"id\"                              SERIAL PRIMARY KEY NOT NULL,\n",
        "  \"type\"                            VARCHAR(100) NOT NULL,\n",
        "  \"subtype\"                         VARCHAR(150)\n",
        ");\n",
        "\n",
        "-- load alert_types\n",
        "INSERT INTO waze.alert_types (type, subtype) VALUES ('ACCIDENT', 'ACCIDENT_MINOR');\n",
        "INSERT INTO waze.alert_types (type, subtype) VALUES ('ACCIDENT', 'ACCIDENT_MAJOR');\n",
        "INSERT INTO waze.alert_types (type, subtype) VALUES ('ACCIDENT', 'NO_SUBTYPE');\n",
        "INSERT INTO waze.alert_types (type, subtype) VALUES ('JAM', 'JAM_MODERATE_TRAFFIC');\n",
        "INSERT INTO waze.alert_types (type, subtype) VALUES ('JAM', 'JAM_HEAVY_TRAFFIC');\n",
        "INSERT INTO waze.alert_types (type, subtype) VALUES ('JAM', 'JAM_STAND_STILL_TRAFFIC');\n",
        "INSERT INTO waze.alert_types (type, subtype) VALUES ('JAM', 'JAM_LIGHT_TRAFFIC');\n",
        "INSERT INTO waze.alert_types (type, subtype) VALUES ('JAM', 'NO_SUBTYPE');\n",
        "INSERT INTO waze.alert_types (type, subtype) VALUES ('WEATHERHAZARD/HAZARD', 'HAZARD_ON_ROAD');\n",
        "INSERT INTO waze.alert_types (type, subtype) VALUES ('WEATHERHAZARD/HAZARD', 'HAZARD_ON_SHOULDER');\n",
        "INSERT INTO waze.alert_types (type, subtype) VALUES ('WEATHERHAZARD/HAZARD', 'HAZARD_WEATHER');\n",
        "INSERT INTO waze.alert_types (type, subtype) VALUES ('WEATHERHAZARD/HAZARD', 'HAZARD_ON_ROAD_OBJECT');\n",
        "INSERT INTO waze.alert_types (type, subtype) VALUES ('WEATHERHAZARD/HAZARD', 'HAZARD_ON_ROAD_POT_HOLE');\n",
        "INSERT INTO waze.alert_types (type, subtype) VALUES ('WEATHERHAZARD/HAZARD', 'HAZARD_ON_ROAD_ROAD_KILL');\n",
        "INSERT INTO waze.alert_types (type, subtype) VALUES ('WEATHERHAZARD/HAZARD', 'HAZARD_ON_SHOULDER_CAR_STOPPED');\n",
        "INSERT INTO waze.alert_types (type, subtype) VALUES ('WEATHERHAZARD/HAZARD', 'HAZARD_ON_SHOULDER_ANIMALS');\n",
        "INSERT INTO waze.alert_types (type, subtype) VALUES ('WEATHERHAZARD/HAZARD', 'HAZARD_ON_SHOULDER_MISSING_SIGN');\n",
        "INSERT INTO waze.alert_types (type, subtype) VALUES ('WEATHERHAZARD/HAZARD', 'HAZARD_WEATHER_FOG');\n",
        "INSERT INTO waze.alert_types (type, subtype) VALUES ('WEATHERHAZARD/HAZARD', 'HAZARD_WEATHER_HAIL');\n",
        "INSERT INTO waze.alert_types (type, subtype) VALUES ('WEATHERHAZARD/HAZARD', 'HAZARD_WEATHER_HEAVY_RAIN');\n",
        "INSERT INTO waze.alert_types (type, subtype) VALUES ('WEATHERHAZARD/HAZARD', 'HAZARD_WEATHER_HEAVY_SNOW');\n",
        "INSERT INTO waze.alert_types (type, subtype) VALUES ('WEATHERHAZARD/HAZARD', 'HAZARD_WEATHER_FLOOD');\n",
        "INSERT INTO waze.alert_types (type, subtype) VALUES ('WEATHERHAZARD/HAZARD', 'HAZARD_WEATHER_MONSOON');\n",
        "INSERT INTO waze.alert_types (type, subtype) VALUES ('WEATHERHAZARD/HAZARD', 'HAZARD_WEATHER_TORNADO');\n",
        "INSERT INTO waze.alert_types (type, subtype) VALUES ('WEATHERHAZARD/HAZARD', 'HAZARD_WEATHER_HEAT_WAVE');\n",
        "INSERT INTO waze.alert_types (type, subtype) VALUES ('WEATHERHAZARD/HAZARD', 'HAZARD_WEATHER_HURRICANE');\n",
        "INSERT INTO waze.alert_types (type, subtype) VALUES ('WEATHERHAZARD/HAZARD', 'HAZARD_WEATHER_FREEZING_RAIN');\n",
        "INSERT INTO waze.alert_types (type, subtype) VALUES ('WEATHERHAZARD/HAZARD', 'HAZARD_ON_ROAD_LANE_CLOSED');\n",
        "INSERT INTO waze.alert_types (type, subtype) VALUES ('WEATHERHAZARD/HAZARD', 'HAZARD_ON_ROAD_OIL');\n",
        "INSERT INTO waze.alert_types (type, subtype) VALUES ('WEATHERHAZARD/HAZARD', 'HAZARD_ON_ROAD_ICE');\n",
        "INSERT INTO waze.alert_types (type, subtype) VALUES ('WEATHERHAZARD/HAZARD', 'HAZARD_ON_ROAD_CONSTRUCTION');\n",
        "INSERT INTO waze.alert_types (type, subtype) VALUES ('WEATHERHAZARD/HAZARD', 'HAZARD_ON_ROAD_CAR_STOPPED');\n",
        "INSERT INTO waze.alert_types (type, subtype) VALUES ('WEATHERHAZARD/HAZARD', 'HAZARD_ON_ROAD_TRAFFIC_LIGHT_FAULT');\n",
        "INSERT INTO waze.alert_types (type, subtype) VALUES ('WEATHERHAZARD/HAZARD', 'NO_SUBTYPE');\n",
        "INSERT INTO waze.alert_types (type, subtype) VALUES ('MISC', 'NO_SUBTYPE');\n",
        "INSERT INTO waze.alert_types (type, subtype) VALUES ('CONSTRUCTION', 'NO_SUBTYPE');\n",
        "INSERT INTO waze.alert_types (type, subtype) VALUES ('ROAD_CLOSED', 'ROAD_CLOSED_HAZARD');\n",
        "INSERT INTO waze.alert_types (type, subtype) VALUES ('ROAD_CLOSED', 'ROAD_CLOSED_CONSTRUCTION');\n",
        "INSERT INTO waze.alert_types (type, subtype) VALUES ('ROAD_CLOSED', 'ROAD_CLOSED_EVENT');\n",
        "\n",
        "-- jams table\n",
        "CREATE TABLE waze.jams \n",
        "(\n",
        "  \"id\"                              SERIAL PRIMARY KEY NOT NULL,\n",
        "  \"uuid\"                            TEXT NOT NULL,\n",
        "  \"pub_millis\"                      INT8 NOT NULL,\n",
        "  \"pub_utc_date\"                    TIMESTAMP,\n",
        "  \"start_node\"                      TEXT,\n",
        "  \"end_node\"                        TEXT,\n",
        "  \"road_type\"                       INT2,\n",
        "  \"street\"                          TEXT,\n",
        "  \"city\"                            TEXT,\n",
        "  \"country\"                         TEXT,\n",
        "  \"delay\"                           INT2,\n",
        "  \"speed\"                           float4,\n",
        "  \"speed_kmh\"                       float4,\n",
        "  \"length\"                          INT2,\n",
        "  \"turn_type\"                       TEXT,\n",
        "  \"level\"                           INT2,\n",
        "  \"blocking_alert_id\"               TEXT,\n",
        "  \"line\"                            TEXT,\n",
        "  \"type\"                            TEXT,\n",
        "  \"ns_direction\"                    TEXT, -- N or S, eg. north or south, direction jam start to jam line heads\n",
        "  \"ew_direction\"                    TEXT, -- E or W, eg. east or west\n",
        "  \"dayofweek\"                       INT4, -- 1-7, eg Monday - Sunday\n",
        "  \"turn_line\"                       TEXT\n",
        ");\n",
        "\n",
        "-- alerts table\n",
        "CREATE TABLE waze.alerts\n",
        "(\n",
        "  \"id\"                              SERIAL PRIMARY KEY NOT NULL,\n",
        "  \"uuid\"                            TEXT NOT NULL, \n",
        "  \"pub_millis\"                      INT8 NOT NULL,\n",
        "  \"pub_utc_date\"                    TIMESTAMP,\n",
        "  \"road_type\"                       INT2,\n",
        "  \"location_x\"                      FLOAT8,\n",
        "  \"location_y\"                      FLOAT8,\n",
        "  \"street\"                          TEXT,\n",
        "  \"city\"                            TEXT,\n",
        "  \"country\"                         TEXT,\n",
        "  \"magvar\"                          INT2,\n",
        "  \"reliability\"                     INT2,\n",
        "  \"report_description\"              TEXT,\n",
        "  \"report_rating\"                   INT2,\n",
        "  \"confidence\"                      INT2,\n",
        "  \"type\"                            TEXT,\n",
        "  \"subtype\"                         TEXT,\n",
        "  \"report_by_municipality_user\"     BOOLEAN,\n",
        "  \"thumbs_up\"                       INT4,\n",
        "  \"jam_uuid\"                        TEXT\n",
        ");\n",
        "\n",
        "-- irregularities table\n",
        "CREATE TABLE waze.irregularities\n",
        "(\n",
        "  \"id\"                              SERIAL PRIMARY KEY NOT NULL,\n",
        "  \"uuid\"                            TEXT NOT NULL,\n",
        "  \"detection_date_millis\"           INT8 NOT NULL,\n",
        "  \"detection_date\"                  TEXT,\n",
        "  \"detection_utc_date\"              TIMESTAMP,\n",
        "  \"update_date_millis\"              INT8 NOT NULL,\n",
        "  \"update_date\"                     TEXT,\n",
        "  \"update_utc_date\"                 TIMESTAMP,\n",
        "  \"street\"                          TEXT,\n",
        "  \"city\"                            TEXT,\n",
        "  \"country\"                         TEXT,\n",
        "  \"is_highway\"                      BOOLEAN,\n",
        "  \"speed\"                           float4,\n",
        "  \"regular_speed\"                   float4,\n",
        "  \"delay_seconds\"                   INT2,\n",
        "  \"seconds\"                         INT2,\n",
        "  \"length\"                          INT2,\n",
        "  \"trend\"                           INT4,\n",
        "  \"type\"                            TEXT,\n",
        "  \"severity\"                        float4,\n",
        "  \"jam_level\"                       INT2,\n",
        "  \"drivers_count\"                   INT2,\n",
        "  \"alerts_count\"                    INT2,\n",
        "  \"n_thumbs_up\"                     INT4,\n",
        "  \"n_comments\"                      INT4,\n",
        "  \"n_images\"                        INT2,\n",
        "  \"line\"                            TEXT,\n",
        "  \"cause_type\"                      TEXT,\n",
        "  \"start_node\"                      TEXT,\n",
        "  \"end_node\"                        TEXT\n",
        ");\n",
        "\n",
        "```"
      ]
    },
    {
      "metadata": {
        "id": "PyIed5soZRGo",
        "colab_type": "text"
      },
      "cell_type": "markdown",
      "source": [
        "<!--- First of all, you need connect DBeaver with your database. To do it:\n",
        "\n",
        "1. In the menu, go to **`Database`** and click in **`New Connection`**.\n",
        "2. Choose PostgreSQL and inform the database settings.\n",
        "3. Test the connection, by clicking in **`Test Connection`**. If the databese settings are correct, will appear a mensage `Connected!`.\n",
        "4. Click in **`Finish`**. --->\n",
        "\n",
        "Furthermore, you need to connect to your database:\n",
        "\n",
        "**_Note: the following code is for connections with postgresql database._**"
      ]
    },
    {
      "metadata": {
        "id": "F5fvFXQFZbZM",
        "colab_type": "code",
        "colab": {}
      },
      "cell_type": "code",
      "source": [
        "#@title Connecting the database\n",
        "\n",
        "host = \"localhost\" #@param {type:\"string\"}\n",
        "port = \"5432\" #@param {type:\"string\"}\n",
        "database = \"postgres\" #@param {type:\"string\"}\n",
        "user = \"postgres\" #@param {type:\"string\"}\n",
        "password = \"\" #@param {type:\"string\"}\n",
        "\n",
        "if port != \"\": port = \":\" + port\n",
        "if password != \"\": password = \":\" + password\n",
        "\n",
        "engine = create_engine('postgresql://{}{}@{}{}/{}'.format(user,password,\n",
        "                                                          host,port,\n",
        "                                                          database),\n",
        "                       echo=True)\n",
        "con = engine.connect()"
      ],
      "execution_count": 0,
      "outputs": []
    },
    {
      "metadata": {
        "id": "ygWN4JhGSkdk",
        "colab_type": "text"
      },
      "cell_type": "markdown",
      "source": [
        "### 5.2 Loading the Waze data"
      ]
    },
    {
      "metadata": {
        "id": "QQGxu72kmQzj",
        "colab_type": "text"
      },
      "cell_type": "markdown",
      "source": [
        "There are necessary some data processign before we insert it in the database. We'll see the entire process with a sigle file and then generalize it for run every time.\n",
        "\n",
        "The first step is load the file in our Python environment. So, let's use the [json](https://docs.python.org/3.5/library/json.html) package to load a single file into Python environment:"
      ]
    },
    {
      "metadata": {
        "colab_type": "code",
        "outputId": "75197c63-47a4-49ac-f9a0-2fd9da7a2a7a",
        "id": "oL6Gm8TpuwFO",
        "colab": {
          "base_uri": "https://localhost:8080/",
          "height": 34
        }
      },
      "cell_type": "code",
      "source": [
        "file_name = \"Lima_2018-12-17 01:04:13.json\" #@param {type:\"string\"}\n",
        "local_path = \"data/raw\" #@param {type:\"string\"}\n",
        "\n",
        "if local_path == '': local_path += '.'\n",
        "\n",
        "# save data\n",
        "data = json.load(open(local_path + '/' + file_name, 'r'))\n",
        "print(data.keys()) # `data` already is a dict."
      ],
      "execution_count": 0,
      "outputs": [
        {
          "output_type": "stream",
          "text": [
            "dict_keys(['endTimeMillis', 'jams', 'alerts', 'irregularities', 'startTime', 'startTimeMillis', 'endTime'])\n"
          ],
          "name": "stdout"
        }
      ]
    },
    {
      "metadata": {
        "id": "AnQ-34LJ3nzk",
        "colab_type": "text"
      },
      "cell_type": "markdown",
      "source": [
        "As we can see, our file looks good with all the three data types."
      ]
    },
    {
      "metadata": {
        "id": "101J2qFwSkgf",
        "colab_type": "text"
      },
      "cell_type": "markdown",
      "source": [
        "### 5.3 Loading the database schema"
      ]
    },
    {
      "metadata": {
        "id": "E2Te-JGOAZsx",
        "colab_type": "text"
      },
      "cell_type": "markdown",
      "source": [
        "The next step is load the three tables structure (`jams`, `alerts` and `irregularities`) from our database, because it will be important to prepare the data. We will use the [sqlalchemy](https://www.sqlalchemy.org/) method called [MetaData](https://docs.sqlalchemy.org/en/latest/core/metadata.html#sqlalchemy.schema.MetaData) to get all the information about the tables schema."
      ]
    },
    {
      "metadata": {
        "id": "Gfa3uHI89LLY",
        "colab_type": "code",
        "outputId": "7a5d2815-3766-498e-949f-2d889c1fb760",
        "colab": {
          "base_uri": "https://localhost:8080/",
          "height": 71
        }
      },
      "cell_type": "code",
      "source": [
        "metadata = MetaData()\n",
        "metadata.reflect(engine, schema='waze')\n",
        "\n",
        "metadata.tables['waze.jams']"
      ],
      "execution_count": 0,
      "outputs": [
        {
          "output_type": "stream",
          "text": [
            "\n",
            "Table('jams', MetaData(bind=None), Column('id', INTEGER(), table=<jams>, primary_key=True, nullable=False, server_default=DefaultClause(<sqlalchemy.sql.elements.TextClause object at 0x11388ae80>, for_update=False)), Column('uuid', TEXT(), table=<jams>, nullable=False), Column('pub_millis', BIGINT(), table=<jams>, nullable=False), Column('pub_utc_date', TIMESTAMP(), table=<jams>), Column('start_node', TEXT(), table=<jams>), Column('end_node', TEXT(), table=<jams>), Column('road_type', SMALLINT(), table=<jams>), Column('street', TEXT(), table=<jams>), Column('city', TEXT(), table=<jams>), Column('country', TEXT(), table=<jams>), Column('delay', SMALLINT(), table=<jams>), Column('speed', REAL(), table=<jams>), Column('speed_kmh', REAL(), table=<jams>), Column('length', SMALLINT(), table=<jams>), Column('turn_type', TEXT(), table=<jams>), Column('level', SMALLINT(), table=<jams>), Column('blocking_alert_id', TEXT(), table=<jams>), Column('line', JSON(astext_type=Text()), table=<jams>), Column('type', TEXT(), table=<jams>), Column('ns_direction', TEXT(), table=<jams>), Column('ew_direction', TEXT(), table=<jams>), Column('dayofweek', INTEGER(), table=<jams>), Column('turn_line', TEXT(), table=<jams>), schema='waze')\n"
          ],
          "name": "stdout"
        }
      ]
    },
    {
      "metadata": {
        "id": "XW6ml6Ve6FD1",
        "colab_type": "text"
      },
      "cell_type": "markdown",
      "source": [
        "Now, we can use the `metadata` object to prepare the data _(fixing names and types)_ to be inserted in the database tables."
      ]
    },
    {
      "metadata": {
        "id": "L3j-nerI6V8X",
        "colab_type": "text"
      },
      "cell_type": "markdown",
      "source": [
        "### 5.4 Inserting to database"
      ]
    },
    {
      "metadata": {
        "id": "6KnutrmW6V_G",
        "colab_type": "text"
      },
      "cell_type": "markdown",
      "source": [
        "Our goal is insert the data into the database from a json file. To do that, we need to match the data columns names and types with the database columns names and types. For that, we create three functions, one for each data type, that receive a single event ocurrence (a jam, a alert or a irregularite from the data which we loaded) and return a dict with the correct columns name which we'll use to insert the data into the database:\n",
        "\n",
        "** *Note: For simplicity, we show only the `make_jam_dict` function. The functions `make_alert_dict` and `make_irregularity_dict` will be presented when we generalize the process.* **"
      ]
    },
    {
      "metadata": {
        "id": "k2uk3vRf_Ers",
        "colab_type": "code",
        "colab": {}
      },
      "cell_type": "code",
      "source": [
        "def make_jam_dict(jam, data):\n",
        "    \"\"\"\n",
        "    Matching the columns name\n",
        "    :param jam: dict | sigle traffic jam\n",
        "    :param data: dict | full waze data\n",
        "    \"\"\"\n",
        "    \n",
        "    return dict(uuid=               jam['uuid'],\n",
        "                pub_millis=         jam['pubMillis'],\n",
        "                pub_utc_date=       datetime.strptime(data['startTime'], \n",
        "                                                      '%Y-%m-%d %H:%M:%S:%f'),\n",
        "                start_node=         jam['startNode'],\n",
        "                end_node=           jam['endNode'],\n",
        "                road_type=          jam['roadType'],\n",
        "                street=             jam['street'],\n",
        "                city=               jam['city'],\n",
        "                country=            jam['country'],\n",
        "                delay=              jam['delay'],\n",
        "                speed=              jam['speed'],\n",
        "                speed_kmh=          jam['speedKMH'],\n",
        "                length=             jam['length'],\n",
        "                turn_type=          jam['turnType'],\n",
        "                level=              jam['level'],\n",
        "                blocking_alert_id=  jam['blockingAlertId'],\n",
        "                line=               jam['line'],\n",
        "                type=               jam['type'],\n",
        "                turn_line=          jam['turnType'])\n",
        "\n",
        "with engine.connect() as conn:\n",
        "    for jam in jams:\n",
        "        conn.execute(metadata.tables['waze.jams'].insert(), \n",
        "                     make_jam_dict(jam, data))"
      ],
      "execution_count": 0,
      "outputs": []
    },
    {
      "metadata": {
        "id": "J_iYZTEN6WBm",
        "colab_type": "text"
      },
      "cell_type": "markdown",
      "source": [
        "Voilà! Your jam data already is in your database. Now, let's generalize the entire process."
      ]
    },
    {
      "metadata": {
        "id": "ntfz2v-96WLw",
        "colab_type": "text"
      },
      "cell_type": "markdown",
      "source": [
        "### 5.5 Generalizing the process"
      ]
    },
    {
      "metadata": {
        "id": "q_76cfzy6WOk",
        "colab_type": "text"
      },
      "cell_type": "markdown",
      "source": [
        "It's simple! We already compose a single `.py` file with the entire process. You just need copy this file (or create a .py file and put the following code) and run it. The code transfer all the data files in the raw data folder to the database.\n",
        "\n",
        "To automatizate the process, use cron, as we see in the previous section. It's important that you move the raw data files which data you already inserted into the database to another folder (a good name is `processed`). But relax! The code already do it. You just need to create this folder and done!"
      ]
    },
    {
      "metadata": {
        "id": "3WTVcgiCE1Kz",
        "colab_type": "code",
        "colab": {}
      },
      "cell_type": "code",
      "source": [
        "#@title Storing the data in the database\n",
        "from sqlalchemy import create_engine, MetaData\n",
        "import json\n",
        "import sys\n",
        "from datetime import datetime\n",
        "from collections import defaultdict\n",
        "from pathlib import Path\n",
        "import os\n",
        "\n",
        "def connect_to_db():\n",
        "    \n",
        "    #@markdown ### Connecting the database\n",
        "    \n",
        "    \n",
        "    host = \"localhost\" #@param {type:\"string\"}\n",
        "    port = \"5432\" #@param {type:\"string\"}\n",
        "    database = \"postgres\" #@param {type:\"string\"}\n",
        "    user = \"postgres\" #@param {type:\"string\"}\n",
        "    password = \"\" #@param {type:\"string\"}\n",
        "\n",
        "    if port != \"\": port = \":\" + port\n",
        "    if password != \"\": password = \":\" + password\n",
        "\n",
        "    engine = create_engine('postgresql://{}{}@{}{}/{}'.format(user,password,\n",
        "                                                          host,port,\n",
        "                                                          database),\n",
        "                           echo=True)\n",
        "    \n",
        "    return engine\n",
        "\n",
        "def load_db_schema(engine):\n",
        "    \n",
        "    metadata = MetaData()\n",
        "    metadata.reflect(engine, schema='waze')\n",
        "    return metadata\n",
        "\n",
        "def to_default_dict(list_of_dic):\n",
        "    return [defaultdict(lambda: None, dic) for dic in list_of_dic]\n",
        "\n",
        "def load_and_prepare_waze(path):\n",
        "    \n",
        "    data = json.load(open(path, 'r'))\n",
        "    \n",
        "    \n",
        "    tables = {}\n",
        "    tables['jams'], tables['alerts'], tables['irregularities'] = \\\n",
        "        list(map(to_default_dict,[data['jams'], \n",
        "                              data['alerts'],\n",
        "                              data['irregularities']]))\n",
        "        \n",
        "    return tables, data\n",
        "\n",
        "def make_jam_dict(jam, data):\n",
        "    return dict(uuid=jam['uuid'],\n",
        "                pub_millis=jam['pubMillis'],\n",
        "                pub_utc_date=datetime.strptime(data['startTime'], \n",
        "                                               '%Y-%m-%d %H:%M:%S:%f'),\n",
        "                start_node=jam['startNode'],\n",
        "                end_node=jam['endNode'],\n",
        "                road_type=jam['roadType'],\n",
        "                street=jam['street'],\n",
        "                city=jam['city'],\n",
        "                country=jam['country'],\n",
        "                delay=jam['delay'],\n",
        "                speed=jam['speed'],\n",
        "                speed_kmh=jam['speedKMH'],\n",
        "                length=jam['length'],\n",
        "                turn_type=jam['turnType'],\n",
        "                level=jam['level'],\n",
        "                blocking_alert_id=jam['blockingAlertId'],\n",
        "                line=jam['line'],\n",
        "                type=jam['type'],\n",
        "                turn_line=jam['turnType'])\n",
        "\n",
        "def make_alert_dict(alert, data):\n",
        "    return dict(            \n",
        "            uuid=                         alert['uuid'],\n",
        "            pub_millis=                   alert['pubMillis'],\n",
        "            pub_utc_date=                 datetime.strptime(data['startTime'], \n",
        "                                               '%Y-%m-%d %H:%M:%S:%f'),\n",
        "            road_type=                    alert['roadType'],\n",
        "            location_x=                   alert['location']['x'],\n",
        "            location_y=                   alert['location']['y'],\n",
        "            street=                       alert['street'],\n",
        "            city=                         alert['city'],\n",
        "            country=                      alert['country'],\n",
        "            magvar=                       alert['magvar'],\n",
        "            reliability=                  alert['reliability'],\n",
        "            report_description=           alert['reportDescription'],\n",
        "            report_rating=                alert['reportRating'],\n",
        "            confidence=                   alert['confidence'],\n",
        "            type=                         alert['type'],\n",
        "            subtype=                      alert['subtype'],\n",
        "            report_by_municipality_user=  alert['reportByMunicipalityUser'],\n",
        "            thumbs_up=                    alert['nThumbsUp'],\n",
        "            jam_uuid=                     alert['jamUuid'])\n",
        "\n",
        "def make_irregularity_dict(irregularity, data):\n",
        "    return dict(\n",
        "            uuid=                           irregularity['id'], \n",
        "            detection_date_millis=          irregularity['detectionDateMillis'], \n",
        "            detection_date=                 irregularity['detectionDate'],\n",
        "            detection_utc_date=             datetime.strptime(irregularity['detectionDate'],\n",
        "                                                                       '%a %b %d %H:%M:%S %z %Y'),\n",
        "            update_date_millis=             irregularity['updateDateMillis'],\n",
        "            update_date=                    irregularity['updateDate'],\n",
        "            update_utc_date=                datetime.strptime(irregularity['updateDate'],\n",
        "                                                                       '%a %b %d %H:%M:%S %z %Y'), \n",
        "            street=                         irregularity['street'],\n",
        "            city=                           irregularity['city'],\n",
        "            country=                        irregularity['country'],\n",
        "            is_highway=                     irregularity['isHighway'],\n",
        "            speed=                          irregularity['speed'],\n",
        "            regular_speed=                  irregularity['regularSpeed'],\n",
        "            delay_seconds=                  irregularity['delaySeconds'],\n",
        "            seconds=                        irregularity['seconds'],\n",
        "            length=                         irregularity['length'],\n",
        "            trend=                          irregularity['trend'],\n",
        "            type=                           irregularity['type'],\n",
        "            severity=                       irregularity['severity'],\n",
        "            jam_level=                      irregularity['jamLevel'],\n",
        "            drivers_count=                  irregularity['driversCount'],\n",
        "            alerts_count=                   irregularity['alertsCount'],\n",
        "            n_thumbs_up=                    irregularity['nThumbsUp'],\n",
        "            n_comments=                     irregularity['nComments'],\n",
        "            n_images=                       irregularity['nImages'],\n",
        "            line=                           irregularity['line'],\n",
        "            cause_type=                     irregularity['causeType'],\n",
        "            start_node=                     irregularity['startNode'],\n",
        "            end_node=                       irregularity['endNode'],\n",
        "    )\n",
        "\n",
        "def load_data_to_db(tables, data, engine, meta):\n",
        "    \n",
        "    with engine.connect() as conn:\n",
        "        for jam in tables['jams']:\n",
        "            conn.execute(meta.tables['waze.jams'].insert(), \n",
        "                     make_jam_dict(jam, data))\n",
        "        for alert in tables['alerts']:\n",
        "            conn.execute(meta.tables['waze.alerts'].insert(), \n",
        "                     make_alert_dict(alert, data))\n",
        "        for irregularity in tables['irregularities']:\n",
        "            conn.execute(meta.tables['waze.irregularities'].insert(), \n",
        "                     make_irregularity_dict(irregularity, data))\n",
        "        \n",
        "def move_data(file, original_path, destination_path):\n",
        "    \n",
        "    os.rename(file, original_path.parent / destination_path / file.name)\n",
        "    \n",
        "\n",
        "def main():\n",
        "    \n",
        "    engine = connect_to_db()\n",
        "    meta = load_db_schema(engine)\n",
        "\n",
        "    #@markdown ### Origin and destination folders\n",
        "    #@markdown origin_local_path is the folder where your data are, before they be processed\n",
        "    #@markdown destination_local_folder is the folder where your data will be, after they be processed \n",
        "    \n",
        "    # local path where the data are saved, before it be processed.\n",
        "    origin_local_path = \"data/raw/\" #@param {type:\"string\"}\n",
        "    \n",
        "    # local path where the data will be saved, after it be processed.\n",
        "    destination_local_folder = \"data/raw/processed\" #@param {type:\"string\"}\n",
        "    \n",
        "    origin_full_path = Path(sys.argv[0]).resolve().parent / origin_local_folder\n",
        "    destination_full_path = Path(sys.argv[0]).resolve().parent / destination_local_folder\n",
        "    \n",
        "    # get all files from raw\n",
        "    for file in origin_full_path.glob('*.json'):\n",
        "        tables, data = load_and_prepare_waze(file)\n",
        "        load_data_to_db(tables, data, engine, meta)\n",
        "        move_data(file, origin_full_path, destination_full_path)\n",
        "    \n",
        "        \n",
        "if __name__ == '__main__':\n",
        "    \n",
        "    main()"
      ],
      "execution_count": 0,
      "outputs": []
    },
    {
      "metadata": {
        "id": "BsslhBKv7jDM",
        "colab_type": "text"
      },
      "cell_type": "markdown",
      "source": [
        "## Conclusion"
      ]
    },
    {
      "metadata": {
        "colab_type": "text",
        "id": "G0k1YLWN7hE8"
      },
      "cell_type": "markdown",
      "source": [
        "UAU! If it is all ok, you already have the Waze data of your city being captured and stored automatically. To do that, we used the Waze GeoRSS API URL to request the data and automate it to every minute. Then, we create a script to get these captured data and insert them in three diferents tables (`jam`, `alert` and `irregularity`) on your database.\n",
        "\n",
        "If you want something with less code and more automatized, we recommend you know the [Waze WARP](https://github.com/LouisvilleMetro/WazeCCPProcessor):\n",
        "> **Waze WARP** takes your CCP data feed and processes it into your cloud provider for access, analysis, and visualization\n",
        "\n",
        "In the next class, we will see some simple queries that we can do in the data stored.\n",
        "\n",
        "Any suggestion or criticism is very welcome. To do that, [use our github, by clicking here](https://github.com/waze-programs/ccp-learning-center).\n",
        "\n",
        "<img style=\"width=800px\" src=\"https://drive.google.com/uc?export=view&id=1i3Ln64JRfxMseKZ3ZdKFMsRofgn7Q1oY\">"
      ]
    }
  ]
}